{
 "cells": [
  {
   "cell_type": "code",
   "execution_count": null,
   "metadata": {},
   "outputs": [],
   "source": [
    "import os\n",
    "import numpy as np\n",
    "import SimpleITK as sitk"
   ]
  },
  {
   "cell_type": "code",
   "execution_count": 42,
   "metadata": {},
   "outputs": [],
   "source": [
    "def ensure_dir(directory):\n",
    "    \"\"\"Ensure a directory exists.\"\"\"\n",
    "    if not os.path.exists(directory):\n",
    "        os.makedirs(directory)"
   ]
  },
  {
   "cell_type": "code",
   "execution_count": 43,
   "metadata": {},
   "outputs": [],
   "source": [
    "def connected_components(input_dir, output_dir, max_components=40):\n",
    "    \"\"\"Perform connected component analysis on binary labels and keep the largest components, marking them with unique labels.\"\"\"\n",
    "    ensure_dir(output_dir)\n",
    "\n",
    "    for filename in os.listdir(input_dir):\n",
    "        if filename.endswith(\".nii.gz\"):\n",
    "            input_path = os.path.join(input_dir, filename)\n",
    "            output_path = os.path.join(output_dir, filename)\n",
    "\n",
    "            # Read the binary label image\n",
    "            binary_image = sitk.ReadImage(input_path)\n",
    "\n",
    "            # Connected component analysis\n",
    "            connected_components = sitk.ConnectedComponent(binary_image)\n",
    "\n",
    "            # Relabel components by size and keep only the largest max_components\n",
    "            relabeled = sitk.RelabelComponent(connected_components, sortByObjectSize=True)\n",
    "\n",
    "            # Keep only the largest components, but retain their unique labels\n",
    "            largest_components = sitk.Cast(relabeled <= max_components, sitk.sitkUInt32) * relabeled\n",
    "\n",
    "            # Save instance mask\n",
    "            sitk.WriteImage(largest_components, output_path)\n",
    "            print(f\"Saved instance mask with top {max_components} components to {output_path}\")"
   ]
  },
  {
   "cell_type": "code",
   "execution_count": 44,
   "metadata": {},
   "outputs": [],
   "source": [
    "def compute_overlap(prediction_dir, label_dir, output_dir):\n",
    "    \"\"\"Compute overlap between predictions and ground truth labels.\"\"\"\n",
    "    ensure_dir(output_dir)\n",
    "\n",
    "    for filename in os.listdir(prediction_dir):\n",
    "        if filename.endswith(\".nii.gz\"):\n",
    "            prediction_path = os.path.join(prediction_dir, filename)\n",
    "            label_path = os.path.join(label_dir, filename)\n",
    "            output_path = os.path.join(output_dir, filename)\n",
    "\n",
    "            # Read prediction and label images\n",
    "            prediction = sitk.ReadImage(prediction_path)\n",
    "            label = sitk.ReadImage(label_path)\n",
    "\n",
    "            # Ensure the images have the same size\n",
    "            assert prediction.GetSize() == label.GetSize(), f\"Size mismatch for {filename}\"\n",
    "\n",
    "            # Convert to binary\n",
    "            prediction_array = sitk.GetArrayFromImage(prediction) > 0\n",
    "            label_array = sitk.GetArrayFromImage(label) > 0\n",
    "\n",
    "            # Compute overlap\n",
    "            only_in_label = (label_array & ~prediction_array).astype(np.uint8)\n",
    "            only_in_prediction = (~label_array & prediction_array).astype(np.uint8)\n",
    "            overlap = (label_array & prediction_array).astype(np.uint8)\n",
    "\n",
    "            # Combine into a single image\n",
    "            overlap_combined = only_in_label + overlap * 2 + only_in_prediction * 3\n",
    "            overlap_image = sitk.GetImageFromArray(overlap_combined)\n",
    "            overlap_image.CopyInformation(prediction)\n",
    "\n",
    "            # Save overlap image\n",
    "            sitk.WriteImage(overlap_image, output_path)\n",
    "            print(f\"Saved overlap map to {output_path}\")"
   ]
  },
  {
   "cell_type": "code",
   "execution_count": null,
   "metadata": {},
   "outputs": [],
   "source": [
    "base_dir = \"images_for_comparison\"\n",
    "\n",
    "# Paths for connected components\n",
    "semantic_labels_dir = os.path.join(base_dir, \"labels_semantic\")\n",
    "instance_labels_dir = os.path.join(base_dir, \"labels_instance\")\n",
    "connected_components(semantic_labels_dir, instance_labels_dir)\n",
    "\n",
    "# Overlap paths\n",
    "prediction_dirs = [\n",
    "    (\"prediction_dins\", \"overlap_dins\"),\n",
    "    (\"prediction_sw_fastedit\", \"overlap_sw_fastedit\"),\n",
    "    (\"prediction_sam2\", \"overlap_sam2\")\n",
    "]\n",
    "\n",
    "for prediction_dir, overlap_dir in prediction_dirs:\n",
    "    compute_overlap(\n",
    "        os.path.join(base_dir, prediction_dir),\n",
    "        semantic_labels_dir,\n",
    "        os.path.join(base_dir, overlap_dir)\n",
    "    )\n"
   ]
  },
  {
   "cell_type": "code",
   "execution_count": null,
   "metadata": {},
   "outputs": [],
   "source": [
    "connected_components(input_dir=\"./images_for_comparison/prediction_sam2\",\n",
    "                     output_dir=\"./images_for_comparison/prediction_sam2_instance\", \n",
    "                     max_components=40)"
   ]
  },
  {
   "cell_type": "code",
   "execution_count": null,
   "metadata": {},
   "outputs": [],
   "source": []
  }
 ],
 "metadata": {
  "kernelspec": {
   "display_name": "nf_iseg_benchmark_torch",
   "language": "python",
   "name": "python3"
  },
  "language_info": {
   "codemirror_mode": {
    "name": "ipython",
    "version": 3
   },
   "file_extension": ".py",
   "mimetype": "text/x-python",
   "name": "python",
   "nbconvert_exporter": "python",
   "pygments_lexer": "ipython3",
   "version": "3.10.16"
  }
 },
 "nbformat": 4,
 "nbformat_minor": 2
}
