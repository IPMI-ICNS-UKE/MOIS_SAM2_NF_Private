{
 "cells": [
  {
   "cell_type": "code",
   "execution_count": 1,
   "metadata": {},
   "outputs": [],
   "source": [
    "import os\n",
    "import SimpleITK as sitk\n",
    "import pandas as pd"
   ]
  },
  {
   "cell_type": "code",
   "execution_count": 2,
   "metadata": {},
   "outputs": [],
   "source": [
    "# Define the directory containing the NIfTI files\n",
    "directory = \"/home/gkolokolnikov/PhD_project/nf_segmentation_interactive/NFInteractiveSegmentationBenchmarking/data/raw/imagesTr\""
   ]
  },
  {
   "cell_type": "markdown",
   "metadata": {},
   "source": [
    "### Check Data Orientation"
   ]
  },
  {
   "cell_type": "code",
   "execution_count": 3,
   "metadata": {},
   "outputs": [],
   "source": [
    "# Function to get spacing and orientation info from a NIfTI file\n",
    "def analyze_nifti(file_path):\n",
    "    image = sitk.ReadImage(file_path)\n",
    "    spacing = image.GetSpacing()\n",
    "    size = image.GetSize()\n",
    "    direction = image.GetDirection()\n",
    "    return spacing, size, direction"
   ]
  },
  {
   "cell_type": "code",
   "execution_count": 4,
   "metadata": {},
   "outputs": [],
   "source": [
    "# Iterate over the files and collect spacing and orientation data\n",
    "data = []\n",
    "for file_name in os.listdir(directory):\n",
    "    if file_name.endswith(\".nii.gz\"):\n",
    "        file_path = os.path.join(directory, file_name)\n",
    "        spacing, size, direction = analyze_nifti(file_path)\n",
    "        data.append({\n",
    "            \"File Name\": file_name,\n",
    "            \"Spacing\": spacing,\n",
    "            \"Size\": size,\n",
    "            \"Orientation\": direction\n",
    "        })\n",
    "\n",
    "# Create a DataFrame for better visualization\n",
    "df = pd.DataFrame(data)"
   ]
  },
  {
   "cell_type": "code",
   "execution_count": null,
   "metadata": {},
   "outputs": [],
   "source": [
    "# Original orientation\n",
    "single_file = os.path.join(directory, \"4_2018_P_564_T2.nii.gz\")\n",
    "image = sitk.ReadImage(single_file)\n",
    "print(\"Image shape in SimpleITK: \", image.GetSize())\n",
    "image_np = sitk.GetArrayFromImage(image)\n",
    "print(\"Image shape in numpy: \", image_np.shape)"
   ]
  },
  {
   "cell_type": "code",
   "execution_count": null,
   "metadata": {},
   "outputs": [],
   "source": [
    "# Check RSA orientation\n",
    "image_RSA = sitk.DICOMOrient(image, \"RSA\")\n",
    "print(\"Image RSA shape in SimpleITK: \", image_RSA.GetSize())\n",
    "image_np_RSA = sitk.GetArrayFromImage(image_RSA)\n",
    "print(\"Image RSA shape in numpy: \", image_np_RSA.shape)"
   ]
  },
  {
   "cell_type": "code",
   "execution_count": null,
   "metadata": {},
   "outputs": [],
   "source": [
    "# Check SRA orientation\n",
    "image_SRA = sitk.DICOMOrient(image, \"SRA\")\n",
    "print(\"Image SRA shape in SimpleITK: \", image_SRA.GetSize())\n",
    "image_np_SRA = sitk.GetArrayFromImage(image_SRA)\n",
    "print(\"Image SRA shape in numpy: \", image_np_SRA.shape)"
   ]
  },
  {
   "cell_type": "markdown",
   "metadata": {},
   "source": [
    "In DINs we aim at unified orientation that leads to numpy shape of ~(31, 2919, 800) => Use RSA"
   ]
  },
  {
   "cell_type": "code",
   "execution_count": null,
   "metadata": {},
   "outputs": [],
   "source": []
  },
  {
   "cell_type": "markdown",
   "metadata": {},
   "source": [
    "### Processing stages"
   ]
  },
  {
   "cell_type": "code",
   "execution_count": 19,
   "metadata": {},
   "outputs": [],
   "source": [
    "# Function to reorient an image to RAS\n",
    "def reorient_to_rsa(image):\n",
    "    # Reorient the image to RAS\n",
    "    orient_filter = sitk.DICOMOrientImageFilter()\n",
    "    orient_filter.SetDesiredCoordinateOrientation(\"RSA\")\n",
    "    ras_image = orient_filter.Execute(image)\n",
    "    return ras_image\n",
    "\n",
    "# Function to resample an image to the desired spacing\n",
    "def resample_image(image, spacing):\n",
    "    original_spacing = image.GetSpacing()\n",
    "    original_size = image.GetSize()\n",
    "\n",
    "    # Compute new size based on the desired spacing\n",
    "    new_size = [\n",
    "        int(round(original_size[i] * (original_spacing[i] / spacing[i])))\n",
    "        for i in range(3)\n",
    "    ]\n",
    "\n",
    "    resampler = sitk.ResampleImageFilter()\n",
    "    resampler.SetOutputSpacing(spacing)\n",
    "    resampler.SetSize(new_size)\n",
    "    resampler.SetInterpolator(sitk.sitkLinear)\n",
    "    resampler.SetOutputOrigin(image.GetOrigin())\n",
    "    resampler.SetOutputDirection(image.GetDirection())\n",
    "    return resampler.Execute(image)\n",
    "\n",
    "# Function to apply Z-score normalization\n",
    "def z_score_normalization(image):\n",
    "    array = sitk.GetArrayFromImage(image)\n",
    "    mean = array.mean()\n",
    "    std = array.std()\n",
    "    normalized_array = (array - mean) / std\n",
    "    return sitk.GetImageFromArray(normalized_array, isVector=image.GetNumberOfComponentsPerPixel() > 1)\n"
   ]
  },
  {
   "cell_type": "code",
   "execution_count": null,
   "metadata": {},
   "outputs": [],
   "source": [
    "# Test the processing\n",
    "desired_spacing = (1.7, 1.7, 7.8)\n",
    "image = sitk.ReadImage(single_file)\n",
    "print(\"Shape of numpy image before processing: \", sitk.GetArrayFromImage(image).shape)\n",
    "\n",
    "image_ras = reorient_to_rsa(image)\n",
    "print(\"Shape of numpy image after re-orientation to RSA: \", sitk.GetArrayFromImage(image_ras).shape)\n",
    "print(image.GetSpacing())\n",
    "print(image_ras.GetSpacing())\n",
    "image_resampled = resample_image(image_ras, desired_spacing)\n",
    "print(\"Shape of numpy image after resampling: \", sitk.GetArrayFromImage(image_resampled).shape)\n",
    "\n",
    "print(\"Min and max values before normalization: \", sitk.GetArrayFromImage(image_resampled).min(), sitk.GetArrayFromImage(image_resampled).max())\n",
    "\n",
    "image_normalized = z_score_normalization(image_resampled)\n",
    "print(\"Min and max values after normalization: \", sitk.GetArrayFromImage(image_normalized).min(), sitk.GetArrayFromImage(image_normalized).max())"
   ]
  },
  {
   "cell_type": "code",
   "execution_count": null,
   "metadata": {},
   "outputs": [],
   "source": []
  }
 ],
 "metadata": {
  "kernelspec": {
   "display_name": "nf_iseg_benchmark_torch",
   "language": "python",
   "name": "python3"
  },
  "language_info": {
   "codemirror_mode": {
    "name": "ipython",
    "version": 3
   },
   "file_extension": ".py",
   "mimetype": "text/x-python",
   "name": "python",
   "nbconvert_exporter": "python",
   "pygments_lexer": "ipython3",
   "version": "3.10.16"
  }
 },
 "nbformat": 4,
 "nbformat_minor": 2
}
