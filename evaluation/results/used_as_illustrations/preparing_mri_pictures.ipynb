{
 "cells": [
  {
   "cell_type": "code",
   "execution_count": null,
   "metadata": {},
   "outputs": [],
   "source": [
    "import SimpleITK as sitk\n",
    "import numpy as np\n",
    "import os"
   ]
  },
  {
   "cell_type": "markdown",
   "metadata": {},
   "source": [
    "### Get overlapping"
   ]
  },
  {
   "cell_type": "code",
   "execution_count": null,
   "metadata": {},
   "outputs": [],
   "source": [
    "# Load the ground truth and prediction nifti files\n",
    "# folder = \"./Figure 4/case_2\"\n",
    "# gt_file = '4_2012_P_701_T2_gt.nii.gz'\n",
    "# pred_file = '4_2012_P_701_T2_pred_50.nii.gz'\n",
    "# output_file = '4_2012_P_701_T2_label_mask_50.nii.gz'\n",
    "\n",
    "folder = \"./Figure 9/case_3\"\n",
    "gt_file = 'nf_009_gt.nii.gz'\n",
    "pred_file = 'nf_009_pred1.nii.gz'\n",
    "output_file = 'nf_009_label_mask1.nii.gz'"
   ]
  },
  {
   "cell_type": "code",
   "execution_count": null,
   "metadata": {},
   "outputs": [],
   "source": []
  },
  {
   "cell_type": "code",
   "execution_count": null,
   "metadata": {},
   "outputs": [],
   "source": [
    "gt_file = os.path.join(folder, gt_file)\n",
    "pred_file = os.path.join(folder, pred_file)\n",
    "\n",
    "# Read the images using SimpleITK\n",
    "gt_image = sitk.ReadImage(gt_file)\n",
    "pred_image = sitk.ReadImage(pred_file)\n",
    "\n",
    "# Convert to numpy arrays for processing\n",
    "gt_array = sitk.GetArrayFromImage(gt_image)\n",
    "pred_array = sitk.GetArrayFromImage(pred_image)\n",
    "\n",
    "# Initialize an empty label mask with the same shape as the ground truth\n",
    "label_mask = np.zeros_like(gt_array, dtype=np.uint8)\n",
    "\n",
    "# Calculate True Positives (TP), False Positives (FP), and False Negatives (FN)\n",
    "tp_mask = np.logical_and(gt_array == 1, pred_array == 1)  # GT and prediction overlap\n",
    "fp_mask = np.logical_and(gt_array == 0, pred_array == 1)  # Prediction but no GT\n",
    "fn_mask = np.logical_and(gt_array == 1, pred_array == 0)  # GT but no prediction\n",
    "\n",
    "# Assign different values to the label mask\n",
    "label_mask[tp_mask] = 1  # TP: True Positives\n",
    "label_mask[fp_mask] = 2  # FP: False Positives\n",
    "label_mask[fn_mask] = 3  # FN: False Negatives\n",
    "\n",
    "# Convert the label mask back to a SimpleITK image\n",
    "label_mask_image = sitk.GetImageFromArray(label_mask)\n",
    "label_mask_image.CopyInformation(gt_image)  # Copy metadata from the original image\n"
   ]
  },
  {
   "cell_type": "code",
   "execution_count": null,
   "metadata": {},
   "outputs": [],
   "source": [
    "# Save the result as a new .nii.gz file\n",
    "sitk.WriteImage(label_mask_image, os.path.join(folder, output_file))\n",
    "\n",
    "print(f\"Saved label mask to {output_file}\")"
   ]
  },
  {
   "cell_type": "code",
   "execution_count": null,
   "metadata": {},
   "outputs": [],
   "source": []
  },
  {
   "cell_type": "code",
   "execution_count": null,
   "metadata": {},
   "outputs": [],
   "source": []
  }
 ],
 "metadata": {
  "kernelspec": {
   "display_name": "monai_release",
   "language": "python",
   "name": "python3"
  },
  "language_info": {
   "codemirror_mode": {
    "name": "ipython",
    "version": 3
   },
   "file_extension": ".py",
   "mimetype": "text/x-python",
   "name": "python",
   "nbconvert_exporter": "python",
   "pygments_lexer": "ipython3",
   "version": "3.9.17"
  }
 },
 "nbformat": 4,
 "nbformat_minor": 2
}
